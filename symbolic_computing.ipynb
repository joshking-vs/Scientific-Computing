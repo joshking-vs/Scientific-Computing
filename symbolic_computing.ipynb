{
 "cells": [
  {
   "cell_type": "markdown",
   "metadata": {},
   "source": [
    "A machine learning model at JKUAT is trained using the loss function:\n",
    "\n",
    "L(x) = 3x^2 + 2x - 5\n",
    "\n",
    "     Task:\n",
    "\n",
    "        Compute the symbolic derivative of L(x)L(x) to find the gradient.\n",
    "        Solve for xx when the gradient is zero (optimal solution).\n",
    "        Use second derivatives to check if it is a minimum or maximum."
   ]
  },
  {
   "cell_type": "code",
   "execution_count": 3,
   "metadata": {},
   "outputs": [],
   "source": [
    "import sympy as sp"
   ]
  },
  {
   "cell_type": "code",
   "execution_count": 5,
   "metadata": {},
   "outputs": [
    {
     "data": {
      "text/latex": [
       "$\\displaystyle \\frac{d}{d x} \\left(3 x^{2} + 2 x - 5\\right) = 6 x + 2$"
      ],
      "text/plain": [
       "Eq(Derivative(3*x**2 + 2*x - 5, x), 6*x + 2)"
      ]
     },
     "metadata": {},
     "output_type": "display_data"
    }
   ],
   "source": [
    "x = sp.symbols('x')\n",
    "\n",
    "L = 3*x**2 + 2*x - 5\n",
    "\n",
    "gradient = sp.diff(L ,x)\n",
    "display(sp.Eq(sp.Derivative(L ,x),gradient))"
   ]
  },
  {
   "cell_type": "code",
   "execution_count": 6,
   "metadata": {},
   "outputs": [
    {
     "data": {
      "text/latex": [
       "$\\displaystyle 6 x + 2 = 0$"
      ],
      "text/plain": [
       "Eq(6*x + 2, 0)"
      ]
     },
     "metadata": {},
     "output_type": "display_data"
    },
    {
     "data": {
      "text/latex": [
       "$\\displaystyle x = - \\frac{1}{3}$"
      ],
      "text/plain": [
       "Eq(x, -1/3)"
      ]
     },
     "metadata": {},
     "output_type": "display_data"
    }
   ],
   "source": [
    "optimal = sp.solve(gradient, x)[0]\n",
    "display(sp.Eq(gradient, 0))\n",
    "display(sp.Eq(x,optimal))"
   ]
  },
  {
   "cell_type": "code",
   "execution_count": 7,
   "metadata": {},
   "outputs": [
    {
     "data": {
      "text/latex": [
       "$\\displaystyle \\frac{d}{d x} \\left(6 x + 2\\right) = 6$"
      ],
      "text/plain": [
       "Eq(Derivative(6*x + 2, x), 6)"
      ]
     },
     "metadata": {},
     "output_type": "display_data"
    }
   ],
   "source": [
    "second_derivative = sp.diff(gradient,x)\n",
    "display(sp.Eq(sp.Derivative(gradient,x),second_derivative))"
   ]
  },
  {
   "cell_type": "code",
   "execution_count": 8,
   "metadata": {},
   "outputs": [
    {
     "name": "stdout",
     "output_type": "stream",
     "text": [
      "minimun\n"
     ]
    }
   ],
   "source": [
    "if second_derivative > 0:\n",
    "    print(\"minimun\")\n",
    "elif second_derivative < 0:\n",
    "    print(\"maximum\")"
   ]
  },
  {
   "cell_type": "markdown",
   "metadata": {},
   "source": [
    "In AI applications, dimensionality reduction is done using eigenvalues of matrices.\n",
    "    Given a feature matrix:\n",
    "\n",
    "A = \\begin{bmatrix} 2 & 1 \\ 1 & 3 \\end{bmatrix}\n",
    "\n",
    "     Task:\n",
    "\n",
    "        Compute the symbolic determinant of AA.\n",
    "        Find the eigenvalues of AA using symbolic computation.\n",
    "        Verify that the eigenvalues satisfy the characteristic equation."
   ]
  },
  {
   "cell_type": "code",
   "execution_count": 9,
   "metadata": {},
   "outputs": [
    {
     "data": {
      "text/latex": [
       "$\\displaystyle \\left|{\\begin{matrix}2 & 1\\\\1 & 3\\end{matrix}}\\right| = 5$"
      ],
      "text/plain": [
       "Eq(Determinant(Matrix([\n",
       "[2, 1],\n",
       "[1, 3]])), 5)"
      ]
     },
     "metadata": {},
     "output_type": "display_data"
    }
   ],
   "source": [
    "V = sp.symbols('V')\n",
    "\n",
    "A = sp.Matrix([[2,1],[1,3]])\n",
    "\n",
    "det_A = A.det()\n",
    "display(sp.Eq(sp.Determinant(A),det_A))"
   ]
  },
  {
   "cell_type": "code",
   "execution_count": 10,
   "metadata": {},
   "outputs": [
    {
     "data": {
      "text/latex": [
       "$\\displaystyle V^{2} - 5 V + 5 = 0$"
      ],
      "text/plain": [
       "Eq(V**2 - 5*V + 5, 0)"
      ]
     },
     "metadata": {},
     "output_type": "display_data"
    }
   ],
   "source": [
    "char_eq = (A - V * sp.eye(2)).det()\n",
    "display(sp.Eq(char_eq, 0))"
   ]
  },
  {
   "cell_type": "code",
   "execution_count": 11,
   "metadata": {},
   "outputs": [
    {
     "data": {
      "text/plain": [
       "{5/2 - sqrt(5)/2: 1, sqrt(5)/2 + 5/2: 1}"
      ]
     },
     "metadata": {},
     "output_type": "display_data"
    }
   ],
   "source": [
    "eigenvalues = A.eigenvals()\n",
    "display(eigenvalues)"
   ]
  },
  {
   "cell_type": "code",
   "execution_count": 12,
   "metadata": {},
   "outputs": [
    {
     "data": {
      "text/latex": [
       "$\\displaystyle \\text{True}$"
      ],
      "text/plain": [
       "True"
      ]
     },
     "metadata": {},
     "output_type": "display_data"
    },
    {
     "data": {
      "text/latex": [
       "$\\displaystyle \\text{True}$"
      ],
      "text/plain": [
       "True"
      ]
     },
     "metadata": {},
     "output_type": "display_data"
    }
   ],
   "source": [
    "verify = [char_eq.subs(V, ev) for ev in eigenvalues]\n",
    "\n",
    "for i,ev in enumerate(eigenvalues.keys()):\n",
    "    display(sp.Eq(char_eq.subs(V,ev),0))"
   ]
  },
  {
   "cell_type": "markdown",
   "metadata": {},
   "source": [
    "In a control system, the Laplace Transform of the system equation is:\n",
    "\n",
    "H(s) = \\frac{1}{s^2 + 3s + 2}\n",
    "\n",
    "    ] Task:\n",
    "\n",
    "        Factor the denominator symbolically.\n",
    "        Compute the inverse Laplace Transform to find h(t)h(t).\n",
    "        Find the poles of the system."
   ]
  },
  {
   "cell_type": "code",
   "execution_count": 17,
   "metadata": {},
   "outputs": [
    {
     "data": {
      "text/latex": [
       "$\\displaystyle s^{2} + 3 s + 2 = \\left(s + 1\\right) \\left(s + 2\\right)$"
      ],
      "text/plain": [
       "Eq(s**2 + 3*s + 2, (s + 1)*(s + 2))"
      ]
     },
     "metadata": {},
     "output_type": "display_data"
    }
   ],
   "source": [
    "s = sp.Symbol('s')\n",
    "\n",
    "H_s = 1 / (s**2 + 3*s + 2)\n",
    "\n",
    "factored_denominator = sp.factor(s**2 + 3*s + 2)\n",
    "display(sp.Eq(s**2 + 3*s + 2, factored_denominator)) "
   ]
  },
  {
   "cell_type": "code",
   "execution_count": 18,
   "metadata": {},
   "outputs": [
    {
     "data": {
      "text/latex": [
       "$\\displaystyle h{\\left(t \\right)} = e^{- t} - e^{- 2 t}$"
      ],
      "text/plain": [
       "Eq(h(t), exp(-t) - exp(-2*t))"
      ]
     },
     "metadata": {},
     "output_type": "display_data"
    }
   ],
   "source": [
    "t = sp.Symbol('t', real=True, positive=True)\n",
    "h_t = sp.inverse_laplace_transform(H_s, s, t)\n",
    "display(sp.Eq(sp.Function('h')(t), h_t))"
   ]
  },
  {
   "cell_type": "code",
   "execution_count": 19,
   "metadata": {},
   "outputs": [
    {
     "data": {
      "text/plain": [
       "[-2, -1]"
      ]
     },
     "metadata": {},
     "output_type": "display_data"
    }
   ],
   "source": [
    "poles = sp.solve(s**2 + 3*s + 2, s)\n",
    "display(poles) "
   ]
  },
  {
   "cell_type": "markdown",
   "metadata": {},
   "source": [
    "A startup incubator at JKUAT is optimizing the cost function:\n",
    "\n",
    "C(x) = 5x^3 - 10x^2 + 4x + 3\n",
    "\n",
    "    ] where xx is the number of AI startups funded.\n",
    "\n",
    "    Task:\n",
    "\n",
    "        Find the symbolic derivative of C(x)C(x).\n",
    "        Solve for xx when the cost is minimized.\n",
    "        Interpret the result for decision-making."
   ]
  },
  {
   "cell_type": "code",
   "execution_count": 20,
   "metadata": {},
   "outputs": [
    {
     "data": {
      "text/latex": [
       "$\\displaystyle \\frac{d}{d x} \\left(5 x^{3} - 10 x^{2} + 4 x + 3\\right) = 15 x^{2} - 20 x + 4$"
      ],
      "text/plain": [
       "Eq(Derivative(5*x**3 - 10*x**2 + 4*x + 3, x), 15*x**2 - 20*x + 4)"
      ]
     },
     "metadata": {},
     "output_type": "display_data"
    }
   ],
   "source": [
    "x = sp.symbols('x')\n",
    "\n",
    "C_x = 5*x**3 - 10*x**2 + 4*x + 3\n",
    "gradient = sp.diff(C_x, x)\n",
    "display(sp.Eq(sp.Derivative(C_x, x), gradient))"
   ]
  },
  {
   "cell_type": "code",
   "execution_count": 21,
   "metadata": {},
   "outputs": [
    {
     "data": {
      "text/latex": [
       "$\\displaystyle 15 x^{2} - 20 x + 4 = 0$"
      ],
      "text/plain": [
       "Eq(15*x**2 - 20*x + 4, 0)"
      ]
     },
     "metadata": {},
     "output_type": "display_data"
    },
    {
     "data": {
      "text/plain": [
       "[2/3 - 2*sqrt(10)/15, 2*sqrt(10)/15 + 2/3]"
      ]
     },
     "metadata": {},
     "output_type": "display_data"
    },
    {
     "data": {
      "text/latex": [
       "$\\displaystyle \\frac{d}{d x} \\left(15 x^{2} - 20 x + 4\\right) = 30 x - 20$"
      ],
      "text/plain": [
       "Eq(Derivative(15*x**2 - 20*x + 4, x), 30*x - 20)"
      ]
     },
     "metadata": {},
     "output_type": "display_data"
    }
   ],
   "source": [
    "critical_points = sp.solve(gradient, x)\n",
    "display(sp.Eq(gradient, 0))  \n",
    "display(critical_points) \n",
    "\n",
    "second_derivative = sp.diff(gradient, x)\n",
    "display(sp.Eq(sp.Derivative(gradient, x), second_derivative))  "
   ]
  },
  {
   "cell_type": "code",
   "execution_count": 22,
   "metadata": {},
   "outputs": [
    {
     "data": {
      "text/latex": [
       "$\\displaystyle \\text{True}$"
      ],
      "text/plain": [
       "True"
      ]
     },
     "metadata": {},
     "output_type": "display_data"
    },
    {
     "name": "stdout",
     "output_type": "stream",
     "text": [
      "x = 2/3 - 2*sqrt(10)/15 is a MAXIMUM (Cost is maximized).\n"
     ]
    },
    {
     "data": {
      "text/latex": [
       "$\\displaystyle \\text{True}$"
      ],
      "text/plain": [
       "True"
      ]
     },
     "metadata": {},
     "output_type": "display_data"
    },
    {
     "name": "stdout",
     "output_type": "stream",
     "text": [
      "x = 2*sqrt(10)/15 + 2/3 is a MINIMUM (Cost is minimized).\n"
     ]
    }
   ],
   "source": [
    "second_derivative_values = {point: second_derivative.subs(x, point) for point in critical_points}\n",
    "\n",
    "\n",
    "for point, value in second_derivative_values.items():\n",
    "    display(sp.Eq(second_derivative.subs(x, point), value))  \n",
    "    if value > 0:\n",
    "        print(f\"x = {point} is a MINIMUM (Cost is minimized).\")\n",
    "    elif value < 0:\n",
    "        print(f\"x = {point} is a MAXIMUM (Cost is maximized).\")\n",
    "    else:\n",
    "        print(f\"x = {point} is an inflection point (Test inconclusive).\")"
   ]
  },
  {
   "cell_type": "markdown",
   "metadata": {},
   "source": [
    "JKUAT cybersecurity researchers are designing a pubic key encription system using prime numbers.\n",
    "the encryption follows the equation\n",
    "\n",
    "C = p^e\\mod N\n",
    "\n",
    "]where C is the ciphertext,P is the plaintext, e is the encrytption key, and N is the public modulus\n",
    "\n",
    "task:\n",
    ".define a symbolic function for the encryption process\n",
    ".compute the modular inverse of p to decrpypt the message.\n",
    ".if P = 7, e = 3 , and N = 33, find C"
   ]
  },
  {
   "cell_type": "code",
   "execution_count": 23,
   "metadata": {},
   "outputs": [
    {
     "data": {
      "text/latex": [
       "$\\displaystyle C{\\left(P,e,N \\right)} = P^{e} \\bmod N$"
      ],
      "text/plain": [
       "Eq(C(P, e, N), Mod(P**e, N))"
      ]
     },
     "metadata": {},
     "output_type": "display_data"
    }
   ],
   "source": [
    "P, e, N = sp.symbols('P e N', integer=True)\n",
    "encryption_function = sp.Mod(P**e, N)\n",
    "display(sp.Eq(sp.Function('C')(P, e, N), encryption_function))"
   ]
  },
  {
   "cell_type": "code",
   "execution_count": 24,
   "metadata": {},
   "outputs": [
    {
     "data": {
      "text/latex": [
       "$\\displaystyle C{\\left(7,3,33 \\right)} = 13$"
      ],
      "text/plain": [
       "Eq(C(7, 3, 33), 13)"
      ]
     },
     "metadata": {},
     "output_type": "display_data"
    }
   ],
   "source": [
    "P_value = 7\n",
    "e_value = 3\n",
    "N_value = 33\n",
    "ciphertext_value = pow(P_value, e_value, N_value)  \n",
    "display(sp.Eq(sp.Function('C')(P_value, e_value, N_value), ciphertext_value)) "
   ]
  },
  {
   "cell_type": "code",
   "execution_count": 25,
   "metadata": {},
   "outputs": [
    {
     "data": {
      "text/latex": [
       "$\\displaystyle P_{inv}{\\left(7,33 \\right)} = 19$"
      ],
      "text/plain": [
       "Eq(P_inv(7, 33), 19)"
      ]
     },
     "metadata": {},
     "output_type": "display_data"
    }
   ],
   "source": [
    "modular_inverse = sp.mod_inverse(P_value, N_value)\n",
    "display(sp.Eq(sp.Function('P_inv')(P_value, N_value), modular_inverse))"
   ]
  }
 ],
 "metadata": {
  "kernelspec": {
   "display_name": "myworld2",
   "language": "python",
   "name": "python3"
  },
  "language_info": {
   "codemirror_mode": {
    "name": "ipython",
    "version": 3
   },
   "file_extension": ".py",
   "mimetype": "text/x-python",
   "name": "python",
   "nbconvert_exporter": "python",
   "pygments_lexer": "ipython3",
   "version": "3.13.1"
  }
 },
 "nbformat": 4,
 "nbformat_minor": 2
}
